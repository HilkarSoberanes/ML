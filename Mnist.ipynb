{
  "cells": [
    {
      "cell_type": "markdown",
      "metadata": {
        "id": "view-in-github",
        "colab_type": "text"
      },
      "source": [
        "<a href=\"https://colab.research.google.com/github/HilkarSoberanes/ML/blob/main/Mnist.ipynb\" target=\"_parent\"><img src=\"https://colab.research.google.com/assets/colab-badge.svg\" alt=\"Open In Colab\"/></a>"
      ]
    },
    {
      "cell_type": "markdown",
      "metadata": {
        "id": "xypBkuDQsvbe"
      },
      "source": [
        "<font size=4 color='cornflowerblue'>\n",
        "\n",
        "# Implementación una red neuronal de convolución usando el conjunto de datos mnist.\n",
        "\n"
      ]
    },
    {
      "cell_type": "code",
      "execution_count": null,
      "metadata": {
        "colab": {
          "base_uri": "https://localhost:8080/"
        },
        "id": "TYVSktsp5bip",
        "outputId": "4aeea0e7-0ac7-43c1-dd8e-626f5e1654ec"
      },
      "outputs": [
        {
          "output_type": "stream",
          "name": "stdout",
          "text": [
            "Drive already mounted at /content/drive; to attempt to forcibly remount, call drive.mount(\"/content/drive\", force_remount=True).\n"
          ]
        }
      ],
      "source": [
        "from google.colab import drive\n",
        "from IPython.display import Image\n",
        "\n",
        "#files.upload()\n",
        "drive.mount(\"/content/drive\")"
      ]
    },
    {
      "cell_type": "code",
      "execution_count": null,
      "metadata": {
        "id": "6l_pUp-tsvbi"
      },
      "outputs": [],
      "source": [
        "import numpy as np \n",
        "import keras\n",
        "from keras import layers\n",
        "from keras.layers import Input, Dense, Activation, Flatten\n",
        "from keras.layers import Dropout\n",
        "from keras.models import Model\n",
        "from keras.preprocessing import image\n",
        "from keras.utils import layer_utils\n",
        "from keras.utils.data_utils import get_file\n",
        "from keras.applications.imagenet_utils import preprocess_input\n",
        "import pydot\n",
        "from IPython.display import SVG\n",
        "from keras.utils.vis_utils import model_to_dot\n",
        "from keras.utils.vis_utils import plot_model\n",
        "from tensorflow.keras.optimizers import Adam\n",
        "import keras.backend as K\n",
        "from keras.layers import BatchNormalization                       \n",
        "from keras.layers import Conv2D, MaxPooling2D\n",
        "from keras.models import Sequential\n",
        "import time\n",
        "import matplotlib.pyplot as plt\n",
        "from matplotlib.pyplot import imshow\n",
        "from tensorflow.keras.utils import to_categorical\n",
        "from tensorflow.keras.losses import BinaryCrossentropy\n",
        "\n",
        "np.random.seed(1)\n",
        "%matplotlib inline"
      ]
    },
    {
      "cell_type": "markdown",
      "metadata": {
        "id": "LRWGLtoSsvbj"
      },
      "source": [
        "<font size = 5 color=\"cornflowerblue\">\n",
        "\n",
        "Parte I: **Análisis de datos**"
      ]
    },
    {
      "cell_type": "markdown",
      "metadata": {
        "id": "TaLv_caEsvbk"
      },
      "source": [
        "<font size=4>\n",
        "\n",
        "Importamos y cargamos la base de datos mnist de Keras:"
      ]
    },
    {
      "cell_type": "markdown",
      "metadata": {
        "id": "WWCXq1igsvbl"
      },
      "source": [
        "<font size = 4>\n",
        "\n",
        "*El conjunto de datos mnist se puede obtener directamente de Keras: [mnist Keras](https://keras.io/examples/vision/mnist_convnet/)*"
      ]
    },
    {
      "cell_type": "code",
      "execution_count": null,
      "metadata": {
        "id": "MPyutXs6uu_I"
      },
      "outputs": [],
      "source": [
        "(x_train, y_train), (x_test, y_test) = keras.datasets.mnist.load_data()"
      ]
    },
    {
      "cell_type": "markdown",
      "metadata": {
        "id": "-ZR5yTrisvbm"
      },
      "source": [
        "<font size=4>\n",
        "\n",
        "Exploramos los datos.\n",
        "¿De qué tipo son los conjuntos que obtenidos?"
      ]
    },
    {
      "cell_type": "code",
      "execution_count": null,
      "metadata": {
        "colab": {
          "base_uri": "https://localhost:8080/"
        },
        "id": "MXYxQ__F4LGZ",
        "outputId": "b14f4628-c557-426e-88dc-eac49e0aa846"
      },
      "outputs": [
        {
          "output_type": "stream",
          "name": "stdout",
          "text": [
            "El tipo de datos de x_train es <class 'numpy.ndarray'>\n",
            "El tipo de de datos de y_train es <class 'numpy.ndarray'>\n",
            "\n",
            "El tipo de datos de x_test es <class 'numpy.ndarray'>\n",
            "El tipo de datos de y_test es <class 'numpy.ndarray'>\n"
          ]
        }
      ],
      "source": [
        "print('El tipo de datos de x_train es', type(x_train))\n",
        "print('El tipo de de datos de y_train es', type(y_train))\n",
        "\n",
        "print('\\nEl tipo de datos de x_test es', type(x_test))\n",
        "print('El tipo de datos de y_test es', type(y_test))"
      ]
    },
    {
      "cell_type": "markdown",
      "metadata": {
        "id": "y8pwBRs2svbn"
      },
      "source": [
        "<font size=4>\n",
        "\n",
        "¿Qué dimensión tienen los conjuntos?"
      ]
    },
    {
      "cell_type": "code",
      "execution_count": null,
      "metadata": {
        "colab": {
          "base_uri": "https://localhost:8080/"
        },
        "id": "E-yHmRRr4SPp",
        "outputId": "33f16804-b47e-4d93-fa71-f3c5909360d7"
      },
      "outputs": [
        {
          "output_type": "stream",
          "name": "stdout",
          "text": [
            "La dimension de x_train es (60000, 28, 28)\n",
            "La dimension y_train es (60000,)\n",
            "\n",
            "La dimension de x_test es (10000, 28, 28)\n",
            "La dimension de y_test es (10000,)\n"
          ]
        }
      ],
      "source": [
        "print('La dimension de x_train es', x_train.shape)\n",
        "print('La dimension y_train es', y_train.shape)\n",
        "\n",
        "print('\\nLa dimension de x_test es', x_test.shape)\n",
        "print('La dimension de y_test es', y_test.shape)"
      ]
    },
    {
      "cell_type": "markdown",
      "metadata": {
        "id": "DYDAC6SZsvbo"
      },
      "source": [
        "<font size=4>\n",
        "\n",
        "¿Cómo se ve una muestra de entrenamiento?, ¿qué representa cada valor en la muestra?"
      ]
    },
    {
      "cell_type": "code",
      "execution_count": null,
      "metadata": {
        "colab": {
          "base_uri": "https://localhost:8080/"
        },
        "id": "F-ctg_7_ynF8",
        "outputId": "799a3373-17db-4390-b706-f1dd1f1d25c5"
      },
      "outputs": [
        {
          "output_type": "stream",
          "name": "stdout",
          "text": [
            "The features of a training sample \n",
            " \n",
            " [[  0   0   0   0   0   0   0   0   0   0   0   0   0   0   0   0   0   0\n",
            "    0   0   0   0   0   0   0   0   0   0]\n",
            " [  0   0   0   0   0   0   0   0   0   0   0   0   0   0   0   0   0   0\n",
            "    0   0   0   0   0   0   0   0   0   0]\n",
            " [  0   0   0   0   0   0   0   0   0   0   0   0   0   0   0   0   0   0\n",
            "    0   0   0   0   0   0   0   0   0   0]\n",
            " [  0   0   0   0   0   0   0   0   0   0   0   0   0   0   0   0   0   0\n",
            "    0   0   0   0   0   0   0   0   0   0]\n",
            " [  0   0   0   0   0   0   0   0   0   0   0   0   0   0   0   0   0   0\n",
            "    0   0   0   0   0   0   0   0   0   0]\n",
            " [  0   0   0   0   0   0   0   0   0   0   0   0   3  18  18  18 126 136\n",
            "  175  26 166 255 247 127   0   0   0   0]\n",
            " [  0   0   0   0   0   0   0   0  30  36  94 154 170 253 253 253 253 253\n",
            "  225 172 253 242 195  64   0   0   0   0]\n",
            " [  0   0   0   0   0   0   0  49 238 253 253 253 253 253 253 253 253 251\n",
            "   93  82  82  56  39   0   0   0   0   0]\n",
            " [  0   0   0   0   0   0   0  18 219 253 253 253 253 253 198 182 247 241\n",
            "    0   0   0   0   0   0   0   0   0   0]\n",
            " [  0   0   0   0   0   0   0   0  80 156 107 253 253 205  11   0  43 154\n",
            "    0   0   0   0   0   0   0   0   0   0]\n",
            " [  0   0   0   0   0   0   0   0   0  14   1 154 253  90   0   0   0   0\n",
            "    0   0   0   0   0   0   0   0   0   0]\n",
            " [  0   0   0   0   0   0   0   0   0   0   0 139 253 190   2   0   0   0\n",
            "    0   0   0   0   0   0   0   0   0   0]\n",
            " [  0   0   0   0   0   0   0   0   0   0   0  11 190 253  70   0   0   0\n",
            "    0   0   0   0   0   0   0   0   0   0]\n",
            " [  0   0   0   0   0   0   0   0   0   0   0   0  35 241 225 160 108   1\n",
            "    0   0   0   0   0   0   0   0   0   0]\n",
            " [  0   0   0   0   0   0   0   0   0   0   0   0   0  81 240 253 253 119\n",
            "   25   0   0   0   0   0   0   0   0   0]\n",
            " [  0   0   0   0   0   0   0   0   0   0   0   0   0   0  45 186 253 253\n",
            "  150  27   0   0   0   0   0   0   0   0]\n",
            " [  0   0   0   0   0   0   0   0   0   0   0   0   0   0   0  16  93 252\n",
            "  253 187   0   0   0   0   0   0   0   0]\n",
            " [  0   0   0   0   0   0   0   0   0   0   0   0   0   0   0   0   0 249\n",
            "  253 249  64   0   0   0   0   0   0   0]\n",
            " [  0   0   0   0   0   0   0   0   0   0   0   0   0   0  46 130 183 253\n",
            "  253 207   2   0   0   0   0   0   0   0]\n",
            " [  0   0   0   0   0   0   0   0   0   0   0   0  39 148 229 253 253 253\n",
            "  250 182   0   0   0   0   0   0   0   0]\n",
            " [  0   0   0   0   0   0   0   0   0   0  24 114 221 253 253 253 253 201\n",
            "   78   0   0   0   0   0   0   0   0   0]\n",
            " [  0   0   0   0   0   0   0   0  23  66 213 253 253 253 253 198  81   2\n",
            "    0   0   0   0   0   0   0   0   0   0]\n",
            " [  0   0   0   0   0   0  18 171 219 253 253 253 253 195  80   9   0   0\n",
            "    0   0   0   0   0   0   0   0   0   0]\n",
            " [  0   0   0   0  55 172 226 253 253 253 253 244 133  11   0   0   0   0\n",
            "    0   0   0   0   0   0   0   0   0   0]\n",
            " [  0   0   0   0 136 253 253 253 212 135 132  16   0   0   0   0   0   0\n",
            "    0   0   0   0   0   0   0   0   0   0]\n",
            " [  0   0   0   0   0   0   0   0   0   0   0   0   0   0   0   0   0   0\n",
            "    0   0   0   0   0   0   0   0   0   0]\n",
            " [  0   0   0   0   0   0   0   0   0   0   0   0   0   0   0   0   0   0\n",
            "    0   0   0   0   0   0   0   0   0   0]\n",
            " [  0   0   0   0   0   0   0   0   0   0   0   0   0   0   0   0   0   0\n",
            "    0   0   0   0   0   0   0   0   0   0]]\n"
          ]
        }
      ],
      "source": [
        "sample = 0\n",
        "print(\"The features of a training sample \\n \\n\", x_train[sample])"
      ]
    },
    {
      "cell_type": "code",
      "execution_count": null,
      "metadata": {
        "colab": {
          "base_uri": "https://localhost:8080/"
        },
        "id": "GleLL0TWISpa",
        "outputId": "3c2acf47-597c-4582-acdf-c23103da7c56"
      },
      "outputs": [
        {
          "output_type": "execute_result",
          "data": {
            "text/plain": [
              "(28, 28)"
            ]
          },
          "metadata": {},
          "execution_count": 1523
        }
      ],
      "source": [
        "x_train[sample].shape"
      ]
    },
    {
      "cell_type": "markdown",
      "metadata": {
        "id": "3TZcQKW62eMK"
      },
      "source": [
        "\n",
        "**La entrada para una muestra de los conjuntos de datos es una matriz, donde cada valor es el valor de un solo píxel.**"
      ]
    },
    {
      "cell_type": "markdown",
      "metadata": {
        "id": "9zpuUKh2svbp"
      },
      "source": [
        "<font size=4>\n",
        "\n",
        "¿Las muestras estan normalizadas?, en el caso de imágenes la normalizacion es dividir cada pixel por la intensidad máxima (255)"
      ]
    },
    {
      "cell_type": "code",
      "execution_count": null,
      "metadata": {
        "colab": {
          "base_uri": "https://localhost:8080/"
        },
        "id": "tZ7Exs7Ssvbp",
        "outputId": "de159558-05a3-4d1f-cc5d-f330125af9fd"
      },
      "outputs": [
        {
          "output_type": "execute_result",
          "data": {
            "text/plain": [
              "78.56748998339798"
            ]
          },
          "metadata": {},
          "execution_count": 1524
        }
      ],
      "source": [
        "x_train.std()"
      ]
    },
    {
      "cell_type": "code",
      "execution_count": null,
      "metadata": {
        "id": "NNXfZcq_54Gc"
      },
      "outputs": [],
      "source": [
        "train_x = x_train.astype(\"float32\") / 255\n",
        "test_x = x_test.astype(\"float32\") / 255"
      ]
    },
    {
      "cell_type": "markdown",
      "metadata": {
        "id": "KIjbQEXAsvbp"
      },
      "source": [
        "<font size=4>\n",
        "\n",
        "\n",
        "Ahora mostramos la imagen del ejemplo anterior y su correspondiente etiqueta. "
      ]
    },
    {
      "cell_type": "code",
      "execution_count": null,
      "metadata": {
        "colab": {
          "base_uri": "https://localhost:8080/",
          "height": 301
        },
        "id": "8wkkgKVJ-82X",
        "outputId": "7abb6c1a-f6a4-4f6a-e7fc-ddbee999b5d2"
      },
      "outputs": [
        {
          "output_type": "stream",
          "name": "stdout",
          "text": [
            "\n",
            "El valor y  de la primera muestra de entrenamiento es 5\n"
          ]
        },
        {
          "output_type": "display_data",
          "data": {
            "text/plain": [
              "<Figure size 432x288 with 1 Axes>"
            ],
            "image/png": "[encoded data removed]"
          },
          "metadata": {
            "needs_background": "light"
          }
        }
      ],
      "source": [
        "plt.imshow(x_train[sample]);\n",
        "\n",
        "print(\"\\nEl valor y  de la primera muestra de entrenamiento es\",np.squeeze(y_train[sample]))"
      ]
    },
    {
      "cell_type": "markdown",
      "metadata": {
        "id": "dqHMg1Shsvbq"
      },
      "source": [
        "<font size=4>\n",
        "\n",
        "¿Dada una muestra de entrada (input) ¿de qué forma se indica la etiqueta (output)?"
      ]
    },
    {
      "cell_type": "markdown",
      "metadata": {
        "id": "qMjOxZsbmz0w"
      },
      "source": [
        "**La etiqueta es un numero entero como se muestra a continuación**"
      ]
    },
    {
      "cell_type": "code",
      "execution_count": null,
      "metadata": {
        "colab": {
          "base_uri": "https://localhost:8080/"
        },
        "id": "XWK9qKWvsvbr",
        "outputId": "7dac4efe-ff33-4a82-a4aa-22a816da3b4f"
      },
      "outputs": [
        {
          "output_type": "execute_result",
          "data": {
            "text/plain": [
              "5"
            ]
          },
          "metadata": {},
          "execution_count": 1527
        }
      ],
      "source": [
        "y_train[sample]"
      ]
    },
    {
      "cell_type": "markdown",
      "metadata": {
        "id": "nJfaorjvsvbr"
      },
      "source": [
        "<font size=4>\n",
        "\n",
        "Conviertimos el output en representación one-hot. Para esto es usaremos la función de Keras [to_categorical](https://keras.io/api/utils/python_utils/#to_categorical-function)\n",
        "\n"
      ]
    },
    {
      "cell_type": "code",
      "execution_count": null,
      "metadata": {
        "colab": {
          "base_uri": "https://localhost:8080/"
        },
        "id": "Z3l7i4Rrsvbr",
        "outputId": "0b05ca3a-caaf-4f52-9c19-d0d118066cbc"
      },
      "outputs": [
        {
          "output_type": "execute_result",
          "data": {
            "text/plain": [
              "(60000,)"
            ]
          },
          "metadata": {},
          "execution_count": 1528
        }
      ],
      "source": [
        "y_train.shape"
      ]
    },
    {
      "cell_type": "code",
      "execution_count": null,
      "metadata": {
        "colab": {
          "base_uri": "https://localhost:8080/"
        },
        "id": "iB7jWxxoIX3m",
        "outputId": "d56c4543-3040-48b9-ee40-6a74bb64ed4e"
      },
      "outputs": [
        {
          "output_type": "execute_result",
          "data": {
            "text/plain": [
              "array([5, 0, 4, ..., 5, 6, 8], dtype=uint8)"
            ]
          },
          "metadata": {},
          "execution_count": 1529
        }
      ],
      "source": [
        "y_train.reshape(-1)"
      ]
    },
    {
      "cell_type": "code",
      "execution_count": null,
      "metadata": {
        "id": "OMOQ1zqr9wH0"
      },
      "outputs": [],
      "source": [
        "train_y=to_categorical(y_train, num_classes=10, dtype=\"float32\")\n",
        "test_y=to_categorical(y_test, num_classes=10, dtype=\"float32\")\n"
      ]
    },
    {
      "cell_type": "code",
      "execution_count": null,
      "metadata": {
        "colab": {
          "base_uri": "https://localhost:8080/"
        },
        "id": "omD5pi4b-2rH",
        "outputId": "0f7113d8-ffda-4bc7-d78f-a2ae4c46a878"
      },
      "outputs": [
        {
          "output_type": "execute_result",
          "data": {
            "text/plain": [
              "(60000, 10)"
            ]
          },
          "metadata": {},
          "execution_count": 1531
        }
      ],
      "source": [
        "train_y.shape"
      ]
    },
    {
      "cell_type": "code",
      "execution_count": null,
      "metadata": {
        "colab": {
          "base_uri": "https://localhost:8080/"
        },
        "id": "a_xT_hub-_Cx",
        "outputId": "d2a29b97-2d14-4df6-84d0-635f6b369f99"
      },
      "outputs": [
        {
          "output_type": "execute_result",
          "data": {
            "text/plain": [
              "array([[0., 0., 0., ..., 0., 0., 0.],\n",
              "       [1., 0., 0., ..., 0., 0., 0.],\n",
              "       [0., 0., 0., ..., 0., 0., 0.],\n",
              "       ...,\n",
              "       [0., 0., 0., ..., 0., 0., 0.],\n",
              "       [0., 0., 0., ..., 0., 0., 0.],\n",
              "       [0., 0., 0., ..., 0., 1., 0.]], dtype=float32)"
            ]
          },
          "metadata": {},
          "execution_count": 1532
        }
      ],
      "source": [
        "train_y"
      ]
    },
    {
      "cell_type": "code",
      "execution_count": null,
      "metadata": {
        "colab": {
          "base_uri": "https://localhost:8080/"
        },
        "id": "PZEya4oKJUSb",
        "outputId": "87daddf2-2410-4830-c2a3-1298646446a1"
      },
      "outputs": [
        {
          "output_type": "execute_result",
          "data": {
            "text/plain": [
              "array([[0., 0., 0., 0., 0., 1., 0., 0., 0., 0.],\n",
              "       [1., 0., 0., 0., 0., 0., 0., 0., 0., 0.],\n",
              "       [0., 0., 0., 0., 1., 0., 0., 0., 0., 0.],\n",
              "       [0., 1., 0., 0., 0., 0., 0., 0., 0., 0.],\n",
              "       [0., 0., 0., 0., 0., 0., 0., 0., 0., 1.]], dtype=float32)"
            ]
          },
          "metadata": {},
          "execution_count": 1533
        }
      ],
      "source": [
        "train_y[0:5]"
      ]
    },
    {
      "cell_type": "code",
      "execution_count": null,
      "metadata": {
        "colab": {
          "base_uri": "https://localhost:8080/",
          "height": 301
        },
        "id": "5NYv-UONKjON",
        "outputId": "a74010c8-9ab6-48b4-ddac-75a697af7a52"
      },
      "outputs": [
        {
          "output_type": "stream",
          "name": "stdout",
          "text": [
            "La muestra 9 corresponde a 4\n",
            "Su representación one-hot es = [0. 0. 0. 0. 1. 0. 0. 0. 0. 0.]\n"
          ]
        },
        {
          "output_type": "display_data",
          "data": {
            "text/plain": [
              "<Figure size 432x288 with 1 Axes>"
            ],
            "image/png": "[encoded data removed]"
          },
          "metadata": {
            "needs_background": "light"
          }
        }
      ],
      "source": [
        "sample = 9\n",
        "\n",
        "plt.imshow(train_x[sample]);\n",
        "\n",
        "print('La muestra', sample, 'corresponde a', int(np.argmax(train_y[sample])))\n",
        "print(\"Su representación one-hot es =\", train_y[sample])"
      ]
    },
    {
      "cell_type": "markdown",
      "metadata": {
        "id": "2cLxmZRosvbs"
      },
      "source": [
        "<font size=4>\n",
        "\n",
        "Hasta aquí tenemos cuatro conjuntos de datos: los correspondientes a las entradas y las salidas de la red neuronal que se van a usar para el entrenamiento de la red (train_x y train_y) y los correspondientes a las entradas y salidas de la red neuronal que se van a usar para la prueba (test_x, test_y).\n",
        "\n",
        "Mostramos las dimensiones de estos cuatro conjuntos."
      ]
    },
    {
      "cell_type": "code",
      "execution_count": null,
      "metadata": {
        "colab": {
          "base_uri": "https://localhost:8080/"
        },
        "id": "VyPkehnBsvbs",
        "outputId": "839760d6-476c-42de-f4ef-e94dfebf89ca"
      },
      "outputs": [
        {
          "output_type": "stream",
          "name": "stdout",
          "text": [
            "La dimension de train_x es (60000, 28, 28)\n",
            "La dimension train_y es (60000, 10)\n",
            "\n",
            "La dimension de test_x es (10000, 28, 28)\n",
            "La dimension de test_y es (10000, 10)\n"
          ]
        }
      ],
      "source": [
        "print('La dimension de train_x es', train_x.shape)\n",
        "print('La dimension train_y es', train_y.shape)\n",
        "\n",
        "print('\\nLa dimension de test_x es', test_x.shape)\n",
        "print('La dimension de test_y es', test_y.shape)"
      ]
    },
    {
      "cell_type": "markdown",
      "metadata": {
        "id": "TQvlOwB9svbs"
      },
      "source": [
        "<font size = 5 color=\"cornflowerblue\">\n",
        "\n",
        "Parte II: **Implemetación de la red neuronal**"
      ]
    },
    {
      "cell_type": "markdown",
      "metadata": {
        "id": "6momvLyosvbt"
      },
      "source": [
        "<font size=4>\n",
        "\n",
        "Implementamos una red neuronal de convolución dentro de una función. Guiandonos de [mnist Keras](https://keras.io/examples/vision/mnist_convnet/) .\n",
        " "
      ]
    },
    {
      "cell_type": "code",
      "execution_count": null,
      "metadata": {
        "id": "wZCnSchpsvbt"
      },
      "outputs": [],
      "source": [
        "def architecture(input_shape, num_classes, activation, dropout=False, batch_normalization=False):\n",
        "    \n",
        "    model = Sequential()\n",
        "    \n",
        "    model.add(Conv2D(32, [3,3], padding='valid', input_shape=input_shape))\n",
        "    model.add(Activation(activation))    \n",
        "    #if batch_normalization: \n",
        "        #model.add(BatchNormalization())  \n",
        "       \n",
        "    #model.add(Conv2D(32, 4, padding='same',kernel_initializer='he_uniform',bias_initializer='zeros'))\n",
        "    #model.add(Activation(activation))    \n",
        "    #if batch_normalization:\n",
        "        #model.add(BatchNormalization())  \n",
        "        \n",
        "    model.add(MaxPooling2D(pool_size=(2, 2))) \n",
        "    \n",
        "    model.add(Conv2D(64, [3,3], padding = 'valid', kernel_initializer = 'glorot_uniform',bias_initializer='zeros'))\n",
        "    model.add(Activation(activation))    \n",
        "    #if batch_normalization:\n",
        "        #model.add(BatchNormalization())  \n",
        "               \n",
        "    #model.add(Conv2D(64, 4, padding = 'same', kernel_initializer = 'he_uniform',bias_initializer='zeros'))\n",
        "    #model.add(Activation(activation))    \n",
        "    #if batch_normalization:\n",
        "        #model.add(BatchNormalization())  \n",
        "    \n",
        "    model.add(MaxPooling2D(pool_size=(2, 2)))\n",
        "    \n",
        "    if dropout:\n",
        "        model.add(Dropout(0.30))\n",
        "\n",
        "    model.add(Flatten())\n",
        "    \n",
        "    \n",
        "    model.add(Dense(128, kernel_initializer='he_uniform',bias_initializer='zeros'))\n",
        "    model.add(Activation(activation))    \n",
        "    #if batch_normalization:\n",
        "        #model.add(BatchNormalization())  \n",
        "    #if dropout:\n",
        "        #model.add(Dropout(0.25))\n",
        "    \n",
        "    model.add(Dense(50, kernel_initializer='he_uniform',bias_initializer='zeros'))\n",
        "    model.add(Activation(activation))    \n",
        "    #if batch_normalization:\n",
        "        #model.add(BatchNormalization())      \n",
        "    if dropout:\n",
        "        model.add(Dropout(0.5))\n",
        "\n",
        "    model.add(Dense(num_classes))\n",
        "    model.add(Activation('softmax',name='CNN_MnistModel'))\n",
        "    \n",
        "    return model\n"
      ]
    },
    {
      "cell_type": "markdown",
      "metadata": {
        "id": "NQfxihS_svbu"
      },
      "source": [
        "<font size=4>\n",
        "\n",
        "Llamamos a la función que creada con los argumentos adecuados."
      ]
    },
    {
      "cell_type": "code",
      "execution_count": null,
      "metadata": {
        "id": "EnUb7hr_svbu"
      },
      "outputs": [],
      "source": [
        "one_image = (28, 28, 1)\n",
        "activation='relu'\n",
        "num_classes=10\n",
        "dropout=True\n",
        "batch_normalization=True\n",
        "\n",
        "model = architecture(one_image,num_classes,activation,dropout,batch_normalization)"
      ]
    },
    {
      "cell_type": "markdown",
      "metadata": {
        "id": "p5A6UbHYsvbu"
      },
      "source": [
        "<font size=4>\n",
        "\n",
        "Usamos la función plot_model para obtener una representación esquemática del modelo implementado. "
      ]
    },
    {
      "cell_type": "code",
      "execution_count": null,
      "metadata": {
        "colab": {
          "base_uri": "https://localhost:8080/",
          "height": 1000
        },
        "id": "WDEEX8TZsvbu",
        "outputId": "4d01c432-6e90-43f8-a770-80e0e0ae5a63"
      },
      "outputs": [
        {
          "output_type": "execute_result",
          "data": {
            "text/plain": [
              "<IPython.core.display.Image object>"
            ],
            "image/png": "[encoded data removed]"
          },
          "metadata": {},
          "execution_count": 1538
        }
      ],
      "source": [
        "plot_model(model, to_file='mnist_model.png', show_shapes=True, rankdir='TB', show_layer_names=True)"
      ]
    },
    {
      "cell_type": "markdown",
      "metadata": {
        "id": "ZTGz3z87svbv"
      },
      "source": [
        "<font size=4 color='black'> \n",
        " [plot_model](https://keras.io/visualization/#training-history-visualization)"
      ]
    },
    {
      "cell_type": "code",
      "execution_count": null,
      "metadata": {
        "colab": {
          "base_uri": "https://localhost:8080/"
        },
        "id": "rgfZqFIysvbv",
        "outputId": "d6d8a308-0294-4c8e-8d58-f97a8bc49958"
      },
      "outputs": [
        {
          "output_type": "stream",
          "name": "stdout",
          "text": [
            "Model: \"sequential_22\"\n",
            "_________________________________________________________________\n",
            " Layer (type)                Output Shape              Param #   \n",
            "=================================================================\n",
            " conv2d_44 (Conv2D)          (None, 26, 26, 32)        320       \n",
            "                                                                 \n",
            " activation_88 (Activation)  (None, 26, 26, 32)        0         \n",
            "                                                                 \n",
            " max_pooling2d_44 (MaxPoolin  (None, 13, 13, 32)       0         \n",
            " g2D)                                                            \n",
            "                                                                 \n",
            " conv2d_45 (Conv2D)          (None, 11, 11, 64)        18496     \n",
            "                                                                 \n",
            " activation_89 (Activation)  (None, 11, 11, 64)        0         \n",
            "                                                                 \n",
            " max_pooling2d_45 (MaxPoolin  (None, 5, 5, 64)         0         \n",
            " g2D)                                                            \n",
            "                                                                 \n",
            " dropout_44 (Dropout)        (None, 5, 5, 64)          0         \n",
            "                                                                 \n",
            " flatten_22 (Flatten)        (None, 1600)              0         \n",
            "                                                                 \n",
            " dense_66 (Dense)            (None, 128)               204928    \n",
            "                                                                 \n",
            " activation_90 (Activation)  (None, 128)               0         \n",
            "                                                                 \n",
            " dense_67 (Dense)            (None, 50)                6450      \n",
            "                                                                 \n",
            " activation_91 (Activation)  (None, 50)                0         \n",
            "                                                                 \n",
            " dropout_45 (Dropout)        (None, 50)                0         \n",
            "                                                                 \n",
            " dense_68 (Dense)            (None, 10)                510       \n",
            "                                                                 \n",
            " CNN_MnistModel (Activation)  (None, 10)               0         \n",
            "                                                                 \n",
            "=================================================================\n",
            "Total params: 230,704\n",
            "Trainable params: 230,704\n",
            "Non-trainable params: 0\n",
            "_________________________________________________________________\n"
          ]
        }
      ],
      "source": [
        "model.summary()"
      ]
    },
    {
      "cell_type": "markdown",
      "metadata": {
        "id": "UfR2u80-svbw"
      },
      "source": [
        "<font size=4>\n",
        "\n",
        "Compilamos el modelo seleccionando un optimizador (con una tasa de aprendizaje seleccionable), la función de costo (loss) y una metrica adecuadas para este problema.\n"
      ]
    },
    {
      "cell_type": "code",
      "execution_count": null,
      "metadata": {
        "id": "hF1XrCBbsvbw"
      },
      "outputs": [],
      "source": [
        "optimizer = Adam(learning_rate = 0.0008)"
      ]
    },
    {
      "cell_type": "code",
      "execution_count": null,
      "metadata": {
        "id": "3W-znyboBssx"
      },
      "outputs": [],
      "source": [
        "loss_function = BinaryCrossentropy(from_logits=True)\n",
        "metric_function = 'accuracy'"
      ]
    },
    {
      "cell_type": "code",
      "execution_count": null,
      "metadata": {
        "id": "awx9oIP8B4G8"
      },
      "outputs": [],
      "source": [
        "model.compile(optimizer = optimizer, loss = loss_function, metrics = [metric_function])"
      ]
    },
    {
      "cell_type": "markdown",
      "metadata": {
        "id": "pbxKr0E6svbx"
      },
      "source": [
        "<font size=4>\n",
        "\n",
        "Entrenamos la red neuronal implementada, indicamos la cantidad de datos a usar para validar el modelo, el número de epocas a utilizar así como el tamaño del batch. "
      ]
    },
    {
      "cell_type": "code",
      "execution_count": null,
      "metadata": {
        "id": "PsCdTQmwo0_3"
      },
      "outputs": [],
      "source": [
        "train_x = np.expand_dims(train_x, -1)\n",
        "test_x = np.expand_dims(test_x, -1)"
      ]
    },
    {
      "cell_type": "code",
      "execution_count": null,
      "metadata": {
        "colab": {
          "base_uri": "https://localhost:8080/"
        },
        "id": "FhhQBH5Isvbx",
        "outputId": "804bf6c5-fe2c-4e10-cf4d-399275a9cabc"
      },
      "outputs": [
        {
          "output_type": "stream",
          "name": "stdout",
          "text": [
            "Epoch 1/17\n"
          ]
        },
        {
          "output_type": "stream",
          "name": "stderr",
          "text": [
            "/usr/local/lib/python3.7/dist-packages/tensorflow/python/util/dispatch.py:1082: UserWarning: \"`binary_crossentropy` received `from_logits=True`, but the `output` argument was produced by a sigmoid or softmax activation and thus does not represent logits. Was this intended?\"\n",
            "  return dispatch_target(*args, **kwargs)\n"
          ]
        },
        {
          "output_type": "stream",
          "name": "stdout",
          "text": [
            "422/422 [==============================] - 3s 6ms/step - loss: 0.1447 - accuracy: 0.7474 - val_loss: 0.0174 - val_accuracy: 0.9730\n",
            "Epoch 2/17\n",
            "422/422 [==============================] - 2s 6ms/step - loss: 0.0367 - accuracy: 0.9543 - val_loss: 0.0106 - val_accuracy: 0.9838\n",
            "Epoch 3/17\n",
            "422/422 [==============================] - 2s 5ms/step - loss: 0.0240 - accuracy: 0.9699 - val_loss: 0.0092 - val_accuracy: 0.9860\n",
            "Epoch 4/17\n",
            "422/422 [==============================] - 2s 6ms/step - loss: 0.0184 - accuracy: 0.9772 - val_loss: 0.0075 - val_accuracy: 0.9883\n",
            "Epoch 5/17\n",
            "422/422 [==============================] - 2s 5ms/step - loss: 0.0157 - accuracy: 0.9811 - val_loss: 0.0077 - val_accuracy: 0.9882\n",
            "Epoch 6/17\n",
            "422/422 [==============================] - 2s 5ms/step - loss: 0.0130 - accuracy: 0.9844 - val_loss: 0.0069 - val_accuracy: 0.9895\n",
            "Epoch 7/17\n",
            "422/422 [==============================] - 2s 6ms/step - loss: 0.0116 - accuracy: 0.9868 - val_loss: 0.0066 - val_accuracy: 0.9908\n",
            "Epoch 8/17\n",
            "422/422 [==============================] - 2s 6ms/step - loss: 0.0108 - accuracy: 0.9869 - val_loss: 0.0068 - val_accuracy: 0.9905\n",
            "Epoch 9/17\n",
            "422/422 [==============================] - 2s 6ms/step - loss: 0.0099 - accuracy: 0.9879 - val_loss: 0.0071 - val_accuracy: 0.9910\n",
            "Epoch 10/17\n",
            "422/422 [==============================] - 2s 6ms/step - loss: 0.0091 - accuracy: 0.9891 - val_loss: 0.0061 - val_accuracy: 0.9917\n",
            "Epoch 11/17\n",
            "422/422 [==============================] - 2s 6ms/step - loss: 0.0083 - accuracy: 0.9908 - val_loss: 0.0076 - val_accuracy: 0.9903\n",
            "Epoch 12/17\n",
            "422/422 [==============================] - 2s 5ms/step - loss: 0.0074 - accuracy: 0.9913 - val_loss: 0.0071 - val_accuracy: 0.9915\n",
            "Epoch 13/17\n",
            "422/422 [==============================] - 2s 5ms/step - loss: 0.0074 - accuracy: 0.9915 - val_loss: 0.0061 - val_accuracy: 0.9928\n",
            "Epoch 14/17\n",
            "422/422 [==============================] - 2s 5ms/step - loss: 0.0067 - accuracy: 0.9924 - val_loss: 0.0069 - val_accuracy: 0.9915\n",
            "Epoch 15/17\n",
            "422/422 [==============================] - 2s 6ms/step - loss: 0.0062 - accuracy: 0.9930 - val_loss: 0.0068 - val_accuracy: 0.9915\n",
            "Epoch 16/17\n",
            "422/422 [==============================] - 2s 6ms/step - loss: 0.0060 - accuracy: 0.9930 - val_loss: 0.0059 - val_accuracy: 0.9927\n",
            "Epoch 17/17\n",
            "422/422 [==============================] - 2s 6ms/step - loss: 0.0056 - accuracy: 0.9936 - val_loss: 0.0064 - val_accuracy: 0.9922\n"
          ]
        }
      ],
      "source": [
        "validation_portion = 0.1\n",
        "batch_size=128\n",
        "num_epochs = 17\n",
        "\n",
        "history = model.fit(x=train_x, y=train_y, epochs=num_epochs, batch_size=batch_size, validation_split=validation_portion, verbose=1)"
      ]
    },
    {
      "cell_type": "markdown",
      "metadata": {
        "id": "e9otacWusvbx"
      },
      "source": [
        "<font size=4>\n",
        "\n",
        "Graficamos el costo en función de la epoca para los conjuntos de entrenamiento y de validación."
      ]
    },
    {
      "cell_type": "code",
      "execution_count": null,
      "metadata": {
        "colab": {
          "base_uri": "https://localhost:8080/",
          "height": 279
        },
        "id": "PYeajf-8svby",
        "outputId": "2cb8adc0-3b83-4df3-d746-ce1a97ab4535"
      },
      "outputs": [
        {
          "output_type": "display_data",
          "data": {
            "text/plain": [
              "<Figure size 432x288 with 1 Axes>"
            ],
            "image/png": "[encoded data removed]"
          },
          "metadata": {
            "needs_background": "light"
          }
        }
      ],
      "source": [
        "plt.plot(history.history['loss'])\n",
        "plt.plot(history.history['val_loss'])\n",
        "plt.ylabel('Cost')\n",
        "plt.xlabel('Epoch')\n",
        "plt.legend(['Train', 'Validation'], loc='upper right')\n",
        "plt.show()"
      ]
    },
    {
      "cell_type": "markdown",
      "metadata": {
        "id": "Zt4tpHNasvby"
      },
      "source": [
        "<font size=4>\n",
        "\n",
        "Graficamos el accuracy (la precisión del modelo) en función de la epoca para los conjuntos de entrenamiento y de validación."
      ]
    },
    {
      "cell_type": "code",
      "execution_count": null,
      "metadata": {
        "colab": {
          "base_uri": "https://localhost:8080/",
          "height": 279
        },
        "id": "rLCjwPufsvby",
        "outputId": "694d29f2-77fa-414e-af8c-c169f68d72a4"
      },
      "outputs": [
        {
          "output_type": "display_data",
          "data": {
            "text/plain": [
              "<Figure size 432x288 with 1 Axes>"
            ],
            "image/png": "[encoded data removed]"
          },
          "metadata": {
            "needs_background": "light"
          }
        }
      ],
      "source": [
        "plt.plot(history.history['accuracy'])\n",
        "plt.plot(history.history['val_accuracy'])\n",
        "plt.ylabel('Accuracy')\n",
        "plt.xlabel('Epoch')\n",
        "plt.legend(['Train', 'Validation'], loc='lower right')\n",
        "plt.show()"
      ]
    },
    {
      "cell_type": "markdown",
      "metadata": {
        "id": "Mvv1V3E7svbz"
      },
      "source": [
        "<font size=4>\n",
        "\n",
        "Evaluamos el modelo en el conjunto de prueba. Usamos el métodod evaluate()"
      ]
    },
    {
      "cell_type": "code",
      "execution_count": null,
      "metadata": {
        "colab": {
          "base_uri": "https://localhost:8080/"
        },
        "id": "8g1gRHzjsvbz",
        "outputId": "2b3ace6f-9615-4b9c-b280-80934f73d8e7"
      },
      "outputs": [
        {
          "output_type": "stream",
          "name": "stdout",
          "text": [
            "313/313 [==============================] - 1s 3ms/step - loss: 0.0053 - accuracy: 0.9930\n",
            "Loss = 0.005285574123263359\n",
            "Test Accuracy = 0.9929999709129333\n"
          ]
        }
      ],
      "source": [
        "evaluations = model.evaluate(x = test_x, y = test_y)\n",
        "\n",
        "print (\"Loss = \" + str(evaluations[0]))\n",
        "print (\"Test Accuracy = \" + str(evaluations[1]))"
      ]
    },
    {
      "cell_type": "markdown",
      "metadata": {
        "id": "vWKa1_6Ksvbz"
      },
      "source": [
        "<font size = 5 color=\"cornflowerblue\">\n",
        "\n",
        "Parte III: **Inferencia**"
      ]
    },
    {
      "cell_type": "markdown",
      "metadata": {
        "id": "A9nL33Rjsvb1"
      },
      "source": [
        "<font size=4>\n",
        "\n",
        "Realizamos predicciones sobre el conjunto de prueba. Usamos el método predict()"
      ]
    },
    {
      "cell_type": "code",
      "execution_count": null,
      "metadata": {
        "colab": {
          "base_uri": "https://localhost:8080/"
        },
        "id": "hH83lathvO2O",
        "outputId": "57ff04bc-8e37-43d2-87b1-13584446efd9"
      },
      "outputs": [
        {
          "output_type": "execute_result",
          "data": {
            "text/plain": [
              "(28, 28)"
            ]
          },
          "metadata": {},
          "execution_count": 1548
        }
      ],
      "source": [
        "test_x[31,:,:,0].shape"
      ]
    },
    {
      "cell_type": "code",
      "execution_count": null,
      "metadata": {
        "colab": {
          "base_uri": "https://localhost:8080/",
          "height": 283
        },
        "id": "7UuaG8oBsvb1",
        "outputId": "2b4c325b-1892-43a4-819d-93fd9a9e57f9"
      },
      "outputs": [
        {
          "output_type": "stream",
          "name": "stdout",
          "text": [
            "the sample 31 corresponds to  1\n"
          ]
        },
        {
          "output_type": "display_data",
          "data": {
            "text/plain": [
              "<Figure size 432x288 with 1 Axes>"
            ],
            "image/png": "[encoded data removed]"
          },
          "metadata": {
            "needs_background": "light"
          }
        }
      ],
      "source": [
        "predictions = model.predict(test_x)\n",
        "sample = 31\n",
        "\n",
        "plt.imshow(test_x[sample,:,:,0])\n",
        "\n",
        "print('the sample', sample, 'corresponds to ', int(np.argmax(test_y[sample])))\n"
      ]
    },
    {
      "cell_type": "code",
      "execution_count": null,
      "metadata": {
        "colab": {
          "base_uri": "https://localhost:8080/"
        },
        "id": "5sQQ_3Ip-PIX",
        "outputId": "4b99d2f2-69a5-4b28-a0bd-afaf4e19cc4e"
      },
      "outputs": [
        {
          "output_type": "stream",
          "name": "stdout",
          "text": [
            "For the sample number 31 the prediction is a(n) 1\n"
          ]
        }
      ],
      "source": [
        "prediction = np.argmax(predictions[sample])\n",
        "\n",
        "print('For the sample number', sample, 'the prediction is a(n)', prediction)"
      ]
    },
    {
      "cell_type": "code",
      "execution_count": null,
      "metadata": {
        "colab": {
          "base_uri": "https://localhost:8080/"
        },
        "id": "vwNZeR5WI7wq",
        "outputId": "1ab7e69d-989e-4980-ab8f-53bf123b46a2"
      },
      "outputs": [
        {
          "output_type": "execute_result",
          "data": {
            "text/plain": [
              "(10000, 28, 28, 1)"
            ]
          },
          "metadata": {},
          "execution_count": 1551
        }
      ],
      "source": [
        "test_x.shape"
      ]
    },
    {
      "cell_type": "code",
      "execution_count": null,
      "metadata": {
        "colab": {
          "base_uri": "https://localhost:8080/"
        },
        "id": "82PPSbU1DsEe",
        "outputId": "490cad77-4925-4a39-fc2f-4c5525a49716"
      },
      "outputs": [
        {
          "output_type": "stream",
          "name": "stdout",
          "text": [
            "After resizing: (28, 28, 3)\n"
          ]
        }
      ],
      "source": [
        "import numpy as np\n",
        "from PIL import Image\n",
        "load_img_rz = np.array(Image.open('/content/drive/My Drive/MachineLearning/1.png').resize((28,28)))\n",
        "Image.fromarray(load_img_rz).save('r_1.png')\n",
        "print(\"After resizing:\",load_img_rz.shape)"
      ]
    },
    {
      "cell_type": "code",
      "execution_count": null,
      "metadata": {
        "colab": {
          "base_uri": "https://localhost:8080/",
          "height": 265
        },
        "id": "9uVDlWmjD3M3",
        "outputId": "caa02a83-af72-4a4c-c2dc-b05783a1df74"
      },
      "outputs": [
        {
          "output_type": "display_data",
          "data": {
            "text/plain": [
              "<Figure size 432x288 with 1 Axes>"
            ],
            "image/png": "[encoded data removed]"
          },
          "metadata": {
            "needs_background": "light"
          }
        }
      ],
      "source": [
        "from matplotlib import pyplot\n",
        "pyplot.imshow(load_img_rz[:,:,0]/255)\n",
        "pyplot.show()"
      ]
    },
    {
      "cell_type": "code",
      "execution_count": null,
      "metadata": {
        "id": "3CNfPuXhJamG"
      },
      "outputs": [],
      "source": [
        "test_x_2 = np.append(test_x,[load_img_rz[:,:,:1]/255], axis=0)"
      ]
    },
    {
      "cell_type": "code",
      "execution_count": null,
      "metadata": {
        "colab": {
          "base_uri": "https://localhost:8080/"
        },
        "id": "bk2diSQmKnp8",
        "outputId": "e1c5db70-e643-4720-e2e2-23062013844a"
      },
      "outputs": [
        {
          "output_type": "execute_result",
          "data": {
            "text/plain": [
              "(10001, 28, 28, 1)"
            ]
          },
          "metadata": {},
          "execution_count": 1555
        }
      ],
      "source": [
        "test_x_2.shape"
      ]
    },
    {
      "cell_type": "code",
      "execution_count": null,
      "metadata": {
        "colab": {
          "base_uri": "https://localhost:8080/",
          "height": 283
        },
        "id": "tXSwXq95Li9j",
        "outputId": "5ad91139-543c-41d3-c951-e74451e5c8c9"
      },
      "outputs": [
        {
          "output_type": "stream",
          "name": "stdout",
          "text": [
            "the sample -1 corresponds to  1\n"
          ]
        },
        {
          "output_type": "display_data",
          "data": {
            "text/plain": [
              "<Figure size 432x288 with 1 Axes>"
            ],
            "image/png": "[encoded data removed]"
          },
          "metadata": {
            "needs_background": "light"
          }
        }
      ],
      "source": [
        "predictions = model.predict(test_x_2)\n",
        "sample = -1\n",
        "\n",
        "plt.imshow(test_x_2[sample,:,:,0])\n",
        "\n",
        "print('the sample', sample, 'corresponds to ', 1)"
      ]
    },
    {
      "cell_type": "code",
      "execution_count": null,
      "metadata": {
        "colab": {
          "base_uri": "https://localhost:8080/"
        },
        "id": "JTNeiZokLnoJ",
        "outputId": "08173b04-a1d3-4587-b2cd-3958b081e1b5"
      },
      "outputs": [
        {
          "output_type": "stream",
          "name": "stdout",
          "text": [
            "For the sample number -1 the prediction is a(n) 1\n"
          ]
        }
      ],
      "source": [
        "prediction = np.argmax(predictions[sample])\n",
        "\n",
        "print('For the sample number', sample, 'the prediction is a(n)', prediction)"
      ]
    },
    {
      "cell_type": "code",
      "execution_count": null,
      "metadata": {
        "colab": {
          "base_uri": "https://localhost:8080/"
        },
        "id": "M2-hFnAWLf9B",
        "outputId": "db3dc39f-0a77-4ce5-da8c-36d04282988d"
      },
      "outputs": [
        {
          "output_type": "stream",
          "name": "stdout",
          "text": [
            "After resizing: (28, 28, 3)\n"
          ]
        }
      ],
      "source": [
        "#files.upload()\n",
        "load_img_rz = np.array(Image.open('/content/drive/My Drive/MachineLearning/2.png').resize((28,28)))\n",
        "Image.fromarray(load_img_rz).save('r_2.png')\n",
        "print(\"After resizing:\",load_img_rz.shape)"
      ]
    },
    {
      "cell_type": "code",
      "execution_count": null,
      "metadata": {
        "colab": {
          "base_uri": "https://localhost:8080/",
          "height": 283
        },
        "id": "-REGJg3MLi9q",
        "outputId": "6e55ecdd-fae5-46a7-b0a3-9b1faf372965"
      },
      "outputs": [
        {
          "output_type": "stream",
          "name": "stdout",
          "text": [
            "the sample -1 corresponds to  2\n"
          ]
        },
        {
          "output_type": "display_data",
          "data": {
            "text/plain": [
              "<Figure size 432x288 with 1 Axes>"
            ],
            "image/png": "[encoded data removed]"
          },
          "metadata": {
            "needs_background": "light"
          }
        }
      ],
      "source": [
        "test_x_2 = np.append(test_x,[load_img_rz[:,:,:1]/255], axis=0)\n",
        "predictions = model.predict(test_x_2)\n",
        "sample = -1\n",
        "\n",
        "plt.imshow(test_x_2[sample,:,:,0])\n",
        "\n",
        "print('the sample', sample, 'corresponds to ', 2)"
      ]
    },
    {
      "cell_type": "code",
      "execution_count": null,
      "metadata": {
        "colab": {
          "base_uri": "https://localhost:8080/"
        },
        "id": "z9Lm6DMKLoji",
        "outputId": "d4d966c0-9dc3-445f-945e-1d30a9b900c8"
      },
      "outputs": [
        {
          "output_type": "stream",
          "name": "stdout",
          "text": [
            "For the sample number -1 the prediction is a(n) 2\n"
          ]
        }
      ],
      "source": [
        "prediction = np.argmax(predictions[sample])\n",
        "\n",
        "print('For the sample number', sample, 'the prediction is a(n)', prediction)"
      ]
    },
    {
      "cell_type": "code",
      "execution_count": null,
      "metadata": {
        "colab": {
          "base_uri": "https://localhost:8080/"
        },
        "id": "CENlMRZ1Ij4Y",
        "outputId": "4af6b851-c844-4f75-c5f6-5270600ba497"
      },
      "outputs": [
        {
          "output_type": "stream",
          "name": "stdout",
          "text": [
            "After resizing: (28, 28, 3)\n"
          ]
        }
      ],
      "source": [
        "#files.upload()\n",
        "load_img_rz = np.array(Image.open('/content/drive/My Drive/MachineLearning/3.png').resize((28,28)))\n",
        "Image.fromarray(load_img_rz).save('r_3.png')\n",
        "print(\"After resizing:\",load_img_rz.shape)"
      ]
    },
    {
      "cell_type": "code",
      "execution_count": null,
      "metadata": {
        "colab": {
          "base_uri": "https://localhost:8080/",
          "height": 283
        },
        "id": "q7jjoH6wIpVM",
        "outputId": "a7405d46-4ae1-4e51-93d3-719cf9decf82"
      },
      "outputs": [
        {
          "output_type": "stream",
          "name": "stdout",
          "text": [
            "the sample -1 corresponds to  3\n"
          ]
        },
        {
          "output_type": "display_data",
          "data": {
            "text/plain": [
              "<Figure size 432x288 with 1 Axes>"
            ],
            "image/png": "[encoded data removed]"
          },
          "metadata": {
            "needs_background": "light"
          }
        }
      ],
      "source": [
        "test_x_2 = np.append(test_x,[load_img_rz[:,:,:1]/255], axis=0)\n",
        "predictions = model.predict(test_x_2)\n",
        "sample = -1\n",
        "\n",
        "plt.imshow(test_x_2[sample,:,:,0])\n",
        "\n",
        "print('the sample', sample, 'corresponds to ', 3)"
      ]
    },
    {
      "cell_type": "code",
      "execution_count": null,
      "metadata": {
        "colab": {
          "base_uri": "https://localhost:8080/"
        },
        "id": "kFCnvyt3I1SD",
        "outputId": "241f246e-cdd3-408b-c8ca-8211267b8bfc"
      },
      "outputs": [
        {
          "output_type": "stream",
          "name": "stdout",
          "text": [
            "For the sample number -1 the prediction is a(n) 3\n"
          ]
        }
      ],
      "source": [
        "prediction = np.argmax(predictions[sample])\n",
        "\n",
        "print('For the sample number', sample, 'the prediction is a(n)', prediction)"
      ]
    },
    {
      "cell_type": "code",
      "execution_count": null,
      "metadata": {
        "colab": {
          "base_uri": "https://localhost:8080/"
        },
        "id": "SRXXzAwpMlOE",
        "outputId": "3a5d7cd4-aec3-4113-9537-40ab136c7223"
      },
      "outputs": [
        {
          "output_type": "stream",
          "name": "stdout",
          "text": [
            "After resizing: (28, 28, 3)\n"
          ]
        }
      ],
      "source": [
        "#files.upload()\n",
        "load_img_rz = np.array(Image.open('/content/drive/My Drive/MachineLearning/4.png').resize((28,28)))\n",
        "Image.fromarray(load_img_rz).save('r_4.png')\n",
        "print(\"After resizing:\",load_img_rz.shape)"
      ]
    },
    {
      "cell_type": "code",
      "execution_count": null,
      "metadata": {
        "colab": {
          "base_uri": "https://localhost:8080/",
          "height": 283
        },
        "id": "VPzH5P8pHElw",
        "outputId": "43b7dc38-947a-4ed2-c0e2-188f2885528e"
      },
      "outputs": [
        {
          "output_type": "stream",
          "name": "stdout",
          "text": [
            "the sample -1 corresponds to  4\n"
          ]
        },
        {
          "output_type": "display_data",
          "data": {
            "text/plain": [
              "<Figure size 432x288 with 1 Axes>"
            ],
            "image/png": "[encoded data removed]"
          },
          "metadata": {
            "needs_background": "light"
          }
        }
      ],
      "source": [
        "test_x_2 = np.append(test_x,[load_img_rz[:,:,:1]/255], axis=0)\n",
        "predictions = model.predict(test_x_2)\n",
        "sample = -1\n",
        "\n",
        "plt.imshow(test_x_2[sample,:,:,0])\n",
        "\n",
        "print('the sample', sample, 'corresponds to ', 4)"
      ]
    },
    {
      "cell_type": "code",
      "execution_count": null,
      "metadata": {
        "colab": {
          "base_uri": "https://localhost:8080/"
        },
        "id": "CunHTMwAHSel",
        "outputId": "a2959643-7263-4738-de43-5241744e6204"
      },
      "outputs": [
        {
          "output_type": "stream",
          "name": "stdout",
          "text": [
            "For the sample number -1 the prediction is a(n) 4\n"
          ]
        }
      ],
      "source": [
        "prediction = np.argmax(predictions[sample])\n",
        "\n",
        "print('For the sample number', sample, 'the prediction is a(n)', prediction)"
      ]
    },
    {
      "cell_type": "code",
      "execution_count": null,
      "metadata": {
        "colab": {
          "base_uri": "https://localhost:8080/"
        },
        "id": "of5A7RVKHZIi",
        "outputId": "33e5aa2c-a183-4da7-d121-499660acec0a"
      },
      "outputs": [
        {
          "output_type": "stream",
          "name": "stdout",
          "text": [
            "After resizing: (28, 28, 3)\n"
          ]
        }
      ],
      "source": [
        "#files.upload()\n",
        "load_img_rz = np.array(Image.open('/content/drive/My Drive/MachineLearning/5.png').resize((28,28)))\n",
        "Image.fromarray(load_img_rz).save('r_5.png')\n",
        "print(\"After resizing:\",load_img_rz.shape)"
      ]
    },
    {
      "cell_type": "code",
      "execution_count": null,
      "metadata": {
        "colab": {
          "base_uri": "https://localhost:8080/",
          "height": 283
        },
        "id": "llfhpxBBO4c-",
        "outputId": "9dfa938d-4a35-4f25-de83-3a15ee2971ad"
      },
      "outputs": [
        {
          "output_type": "stream",
          "name": "stdout",
          "text": [
            "the sample -1 corresponds to  5\n"
          ]
        },
        {
          "output_type": "display_data",
          "data": {
            "text/plain": [
              "<Figure size 432x288 with 1 Axes>"
            ],
            "image/png": "[encoded data removed]"
          },
          "metadata": {
            "needs_background": "light"
          }
        }
      ],
      "source": [
        "test_x_2 = np.append(test_x,[load_img_rz[:,:,:1]/255], axis=0)\n",
        "predictions = model.predict(test_x_2)\n",
        "sample = -1\n",
        "\n",
        "plt.imshow(test_x_2[sample,:,:,0])\n",
        "\n",
        "print('the sample', sample, 'corresponds to ', 5)"
      ]
    },
    {
      "cell_type": "code",
      "execution_count": null,
      "metadata": {
        "colab": {
          "base_uri": "https://localhost:8080/"
        },
        "id": "4Im2VtVkO6-5",
        "outputId": "ceaa17b6-eddd-4154-9c42-95131748adf5"
      },
      "outputs": [
        {
          "output_type": "stream",
          "name": "stdout",
          "text": [
            "For the sample number -1 the prediction is a(n) 5\n"
          ]
        }
      ],
      "source": [
        "prediction = np.argmax(predictions[sample])\n",
        "\n",
        "print('For the sample number', sample, 'the prediction is a(n)', prediction)"
      ]
    },
    {
      "cell_type": "code",
      "execution_count": null,
      "metadata": {
        "colab": {
          "base_uri": "https://localhost:8080/"
        },
        "id": "-AI8MZ4WTX9R",
        "outputId": "575a6e12-9e68-412d-8597-0057f7c49c1b"
      },
      "outputs": [
        {
          "output_type": "stream",
          "name": "stdout",
          "text": [
            "After resizing: (28, 28, 3)\n"
          ]
        }
      ],
      "source": [
        "#files.upload()\n",
        "load_img_rz = np.array(Image.open('/content/drive/My Drive/MachineLearning/6.png').resize((28,28)))\n",
        "Image.fromarray(load_img_rz).save('r_6.png')\n",
        "print(\"After resizing:\",load_img_rz.shape)"
      ]
    },
    {
      "cell_type": "code",
      "execution_count": null,
      "metadata": {
        "colab": {
          "base_uri": "https://localhost:8080/",
          "height": 283
        },
        "id": "QE-LtwQ_VC9Y",
        "outputId": "bc33e753-78e9-474f-b90e-16660cf17be2"
      },
      "outputs": [
        {
          "output_type": "stream",
          "name": "stdout",
          "text": [
            "the sample -1 corresponds to  6\n"
          ]
        },
        {
          "output_type": "display_data",
          "data": {
            "text/plain": [
              "<Figure size 432x288 with 1 Axes>"
            ],
            "image/png": "[encoded data removed]"
          },
          "metadata": {
            "needs_background": "light"
          }
        }
      ],
      "source": [
        "test_x_2 = np.append(test_x,[load_img_rz[:,:,:1]/255], axis=0)\n",
        "predictions = model.predict(test_x_2)\n",
        "sample = -1\n",
        "\n",
        "plt.imshow(test_x_2[sample,:,:,0])\n",
        "\n",
        "print('the sample', sample, 'corresponds to ', 6)"
      ]
    },
    {
      "cell_type": "code",
      "execution_count": null,
      "metadata": {
        "colab": {
          "base_uri": "https://localhost:8080/"
        },
        "id": "_YAS0Q_UVICV",
        "outputId": "3ed4f2bf-678d-4e47-d592-2e164a074fbb"
      },
      "outputs": [
        {
          "output_type": "stream",
          "name": "stdout",
          "text": [
            "For the sample number -1 the prediction is a(n) 6\n"
          ]
        }
      ],
      "source": [
        "prediction = np.argmax(predictions[sample])\n",
        "\n",
        "print('For the sample number', sample, 'the prediction is a(n)', prediction)"
      ]
    },
    {
      "cell_type": "code",
      "execution_count": null,
      "metadata": {
        "colab": {
          "base_uri": "https://localhost:8080/"
        },
        "id": "mwOhh-bYVOAY",
        "outputId": "1ee352e4-b09a-44b8-cc49-520d58aa11e1"
      },
      "outputs": [
        {
          "output_type": "stream",
          "name": "stdout",
          "text": [
            "After resizing: (28, 28, 3)\n"
          ]
        }
      ],
      "source": [
        "#files.upload()\n",
        "load_img_rz = np.array(Image.open('/content/drive/My Drive/MachineLearning/7.png').resize((28,28)))\n",
        "Image.fromarray(load_img_rz).save('r_7.png')\n",
        "print(\"After resizing:\",load_img_rz.shape)"
      ]
    },
    {
      "cell_type": "code",
      "execution_count": null,
      "metadata": {
        "colab": {
          "base_uri": "https://localhost:8080/",
          "height": 283
        },
        "id": "O08JJq2UVReC",
        "outputId": "b338d0cd-5056-45ed-e810-5e1d9656cfc2"
      },
      "outputs": [
        {
          "output_type": "stream",
          "name": "stdout",
          "text": [
            "the sample -1 corresponds to  7\n"
          ]
        },
        {
          "output_type": "display_data",
          "data": {
            "text/plain": [
              "<Figure size 432x288 with 1 Axes>"
            ],
            "image/png": "[encoded data removed]"
          },
          "metadata": {
            "needs_background": "light"
          }
        }
      ],
      "source": [
        "test_x_2 = np.append(test_x,[load_img_rz[:,:,:1]/255], axis=0)\n",
        "predictions = model.predict(test_x_2)\n",
        "sample = -1\n",
        "\n",
        "plt.imshow(test_x_2[sample,:,:,0])\n",
        "\n",
        "print('the sample', sample, 'corresponds to ', 7)"
      ]
    },
    {
      "cell_type": "code",
      "execution_count": null,
      "metadata": {
        "colab": {
          "base_uri": "https://localhost:8080/"
        },
        "id": "D6R6JSScVWQd",
        "outputId": "34b2120f-4b59-4164-b5ff-5a270c1b2449"
      },
      "outputs": [
        {
          "output_type": "stream",
          "name": "stdout",
          "text": [
            "For the sample number -1 the prediction is a(n) 7\n"
          ]
        }
      ],
      "source": [
        "prediction = np.argmax(predictions[sample])\n",
        "\n",
        "print('For the sample number', sample, 'the prediction is a(n)', prediction)"
      ]
    },
    {
      "cell_type": "code",
      "execution_count": null,
      "metadata": {
        "colab": {
          "base_uri": "https://localhost:8080/"
        },
        "id": "lx0K2VSyVZwF",
        "outputId": "60e34e6f-a5bf-4699-8928-f8208d8916a0"
      },
      "outputs": [
        {
          "output_type": "stream",
          "name": "stdout",
          "text": [
            "After resizing: (28, 28, 3)\n"
          ]
        }
      ],
      "source": [
        "#files.upload()\n",
        "load_img_rz = np.array(Image.open('/content/drive/My Drive/MachineLearning/8.png').resize((28,28)))\n",
        "Image.fromarray(load_img_rz).save('r_8.png')\n",
        "print(\"After resizing:\",load_img_rz.shape)"
      ]
    },
    {
      "cell_type": "code",
      "execution_count": null,
      "metadata": {
        "colab": {
          "base_uri": "https://localhost:8080/",
          "height": 283
        },
        "id": "ad8EaGvsVenL",
        "outputId": "0aa4f486-abc2-4045-a826-e8fc807f4b48"
      },
      "outputs": [
        {
          "output_type": "stream",
          "name": "stdout",
          "text": [
            "the sample -1 corresponds to  8\n"
          ]
        },
        {
          "output_type": "display_data",
          "data": {
            "text/plain": [
              "<Figure size 432x288 with 1 Axes>"
            ],
            "image/png": "[encoded data removed]"
          },
          "metadata": {
            "needs_background": "light"
          }
        }
      ],
      "source": [
        "test_x_2 = np.append(test_x,[load_img_rz[:,:,:1]/255], axis=0)\n",
        "predictions = model.predict(test_x_2)\n",
        "sample = -1\n",
        "\n",
        "plt.imshow(test_x_2[sample,:,:,0])\n",
        "\n",
        "print('the sample', sample, 'corresponds to ', 8)"
      ]
    },
    {
      "cell_type": "code",
      "execution_count": null,
      "metadata": {
        "id": "4G6St2DKVmvU",
        "colab": {
          "base_uri": "https://localhost:8080/"
        },
        "outputId": "885e59b1-c3b1-4688-e374-ec557c7a36f4"
      },
      "outputs": [
        {
          "output_type": "stream",
          "name": "stdout",
          "text": [
            "For the sample number -1 the prediction is a(n) 8\n"
          ]
        }
      ],
      "source": [
        "prediction = np.argmax(predictions[sample])\n",
        "\n",
        "print('For the sample number', sample, 'the prediction is a(n)', prediction)"
      ]
    },
    {
      "cell_type": "code",
      "execution_count": null,
      "metadata": {
        "colab": {
          "base_uri": "https://localhost:8080/"
        },
        "id": "0tAcW0lMVox_",
        "outputId": "177fcdbe-e1e8-426c-fb86-e0b202804aee"
      },
      "outputs": [
        {
          "output_type": "stream",
          "name": "stdout",
          "text": [
            "After resizing: (28, 28, 3)\n"
          ]
        }
      ],
      "source": [
        "#files.upload()\n",
        "load_img_rz = np.array(Image.open('/content/drive/My Drive/MachineLearning/9.png').resize((28,28)))\n",
        "Image.fromarray(load_img_rz).save('r_9.png')\n",
        "print(\"After resizing:\",load_img_rz.shape)"
      ]
    },
    {
      "cell_type": "code",
      "execution_count": null,
      "metadata": {
        "colab": {
          "base_uri": "https://localhost:8080/",
          "height": 283
        },
        "id": "f9oAxb5-VyLx",
        "outputId": "ce3b974a-0bcf-44fd-8231-274a2370af56"
      },
      "outputs": [
        {
          "output_type": "stream",
          "name": "stdout",
          "text": [
            "the sample -1 corresponds to  9\n"
          ]
        },
        {
          "output_type": "display_data",
          "data": {
            "text/plain": [
              "<Figure size 432x288 with 1 Axes>"
            ],
            "image/png": "[encoded data removed]"
          },
          "metadata": {
            "needs_background": "light"
          }
        }
      ],
      "source": [
        "test_x_2 = np.append(test_x,[load_img_rz[:,:,:1]/255], axis=0)\n",
        "predictions = model.predict(test_x_2)\n",
        "sample = -1\n",
        "\n",
        "plt.imshow(test_x_2[sample,:,:,0])\n",
        "\n",
        "print('the sample', sample, 'corresponds to ', 9)"
      ]
    },
    {
      "cell_type": "code",
      "execution_count": null,
      "metadata": {
        "colab": {
          "base_uri": "https://localhost:8080/"
        },
        "id": "X7mk29w8V4pQ",
        "outputId": "d89b3a3c-c5a1-497c-af87-d3717c7f8f77"
      },
      "outputs": [
        {
          "output_type": "stream",
          "name": "stdout",
          "text": [
            "For the sample number -1 the prediction is a(n) 9\n"
          ]
        }
      ],
      "source": [
        "prediction = np.argmax(predictions[sample])\n",
        "\n",
        "print('For the sample number', sample, 'the prediction is a(n)', prediction)"
      ]
    },
    {
      "cell_type": "code",
      "execution_count": null,
      "metadata": {
        "colab": {
          "base_uri": "https://localhost:8080/"
        },
        "id": "xLmjXYISV8YT",
        "outputId": "c784e045-7def-4c24-8e15-94200290d6cf"
      },
      "outputs": [
        {
          "output_type": "stream",
          "name": "stdout",
          "text": [
            "After resizing: (28, 28, 3)\n"
          ]
        }
      ],
      "source": [
        "#files.upload()\n",
        "load_img_rz = np.array(Image.open('/content/drive/My Drive/MachineLearning/0.png').resize((28,28)))\n",
        "Image.fromarray(load_img_rz).save('r_0.png')\n",
        "print(\"After resizing:\",load_img_rz.shape)"
      ]
    },
    {
      "cell_type": "code",
      "execution_count": null,
      "metadata": {
        "colab": {
          "base_uri": "https://localhost:8080/",
          "height": 283
        },
        "id": "kN8j6qvWZCDE",
        "outputId": "077d8248-560a-4ff3-eb53-1be8ac598efd"
      },
      "outputs": [
        {
          "output_type": "stream",
          "name": "stdout",
          "text": [
            "the sample -1 corresponds to  0\n"
          ]
        },
        {
          "output_type": "display_data",
          "data": {
            "text/plain": [
              "<Figure size 432x288 with 1 Axes>"
            ],
            "image/png": "[encoded data removed]"
          },
          "metadata": {
            "needs_background": "light"
          }
        }
      ],
      "source": [
        "test_x_2 = np.append(test_x,[load_img_rz[:,:,:1]/255], axis=0)\n",
        "predictions = model.predict(test_x_2)\n",
        "sample = -1\n",
        "\n",
        "plt.imshow(test_x_2[sample,:,:,0])\n",
        "\n",
        "print('the sample', sample, 'corresponds to ', 0)"
      ]
    },
    {
      "cell_type": "code",
      "execution_count": null,
      "metadata": {
        "colab": {
          "base_uri": "https://localhost:8080/"
        },
        "id": "BUbWjljyZOQx",
        "outputId": "a5fa0083-630d-4e54-91e5-4480540103f8"
      },
      "outputs": [
        {
          "output_type": "stream",
          "name": "stdout",
          "text": [
            "For the sample number -1 the prediction is a(n) 0\n"
          ]
        }
      ],
      "source": [
        "prediction = np.argmax(predictions[sample])\n",
        "\n",
        "print('For the sample number', sample, 'the prediction is a(n)', prediction)"
      ]
    },
    {
      "cell_type": "code",
      "execution_count": null,
      "metadata": {
        "id": "IMAevA8wZQ31"
      },
      "outputs": [],
      "source": [
        ""
      ]
    }
  ],
  "metadata": {
    "accelerator": "GPU",
    "colab": {
      "collapsed_sections": [],
      "name": "Mnist.ipynb",
      "provenance": [],
      "include_colab_link": true
    },
    "kernelspec": {
      "display_name": "Python 3",
      "language": "python",
      "name": "python3"
    },
    "language_info": {
      "codemirror_mode": {
        "name": "ipython",
        "version": 3
      },
      "file_extension": ".py",
      "mimetype": "text/x-python",
      "name": "python",
      "nbconvert_exporter": "python",
      "pygments_lexer": "ipython3",
      "version": "3.8.5"
    }
  },
  "nbformat": 4,
  "nbformat_minor": 0
}